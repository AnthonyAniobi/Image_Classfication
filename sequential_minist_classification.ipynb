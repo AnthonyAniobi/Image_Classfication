{
 "cells": [
  {
   "cell_type": "code",
   "execution_count": 1,
   "id": "61afb982",
   "metadata": {},
   "outputs": [
    {
     "name": "stderr",
     "output_type": "stream",
     "text": [
      "2023-10-14 02:31:18.530080: I tensorflow/core/platform/cpu_feature_guard.cc:193] This TensorFlow binary is optimized with oneAPI Deep Neural Network Library (oneDNN) to use the following CPU instructions in performance-critical operations:  SSE4.1 SSE4.2 AVX\n",
      "To enable them in other operations, rebuild TensorFlow with the appropriate compiler flags.\n"
     ]
    }
   ],
   "source": [
    "# import packages\n",
    "import tensorflow as tf\n",
    "from tensorflow import keras\n",
    "from tensorflow.keras import layers\n",
    "from tensorflow.keras.datasets import mnist\n",
    "import matplotlib.pyplot as plt"
   ]
  },
  {
   "cell_type": "code",
   "execution_count": 2,
   "id": "0e3ffc54",
   "metadata": {},
   "outputs": [],
   "source": [
    "# load mnist data\n",
    "(train_img, train_label), (test_img, test_label) = mnist.load_data()"
   ]
  },
  {
   "cell_type": "code",
   "execution_count": 3,
   "id": "31d66f30",
   "metadata": {},
   "outputs": [
    {
     "name": "stdout",
     "output_type": "stream",
     "text": [
      "train image shape = (60000, 28, 28)\n",
      "test image shape = (10000, 28, 28)\n",
      "train label shape = (60000,)\n",
      "test label shape = (10000,)\n"
     ]
    }
   ],
   "source": [
    "# find shape of images\n",
    "train_img_shape = train_img.shape\n",
    "train_label_shape = train_label.shape\n",
    "test_img_shape = test_img.shape\n",
    "test_label_shape = test_label.shape\n",
    "\n",
    "print(f'train image shape = {train_img_shape}')\n",
    "print(f'test image shape = {test_img_shape}')\n",
    "print(f'train label shape = {train_label_shape}')\n",
    "print(f'test label shape = {test_label_shape}')"
   ]
  },
  {
   "cell_type": "code",
   "execution_count": 4,
   "id": "21419ec7",
   "metadata": {},
   "outputs": [
    {
     "data": {
      "image/png": "[encoded data removed]",
      "text/plain": [
       "<Figure size 640x480 with 9 Axes>"
      ]
     },
     "metadata": {},
     "output_type": "display_data"
    }
   ],
   "source": [
    "for i in range(9):\n",
    "    plt.subplot(3, 3, i+1)\n",
    "    plt.xticks([])\n",
    "    plt.yticks([])\n",
    "    plt.imshow(train_img[i])\n",
    "    plt.xlabel(train_label[i])"
   ]
  },
  {
   "cell_type": "code",
   "execution_count": 5,
   "id": "bbd2058d",
   "metadata": {},
   "outputs": [],
   "source": [
    "# reshape this data\n",
    "# normalize the data\n",
    "train_img = train_img.reshape(-1, 28*28).astype(\"float32\")/255.0\n",
    "test_img = test_img.reshape(-1, 28*28).astype(\"float32\")/255.0"
   ]
  },
  {
   "cell_type": "code",
   "execution_count": 6,
   "id": "d2963cd4",
   "metadata": {},
   "outputs": [
    {
     "name": "stdout",
     "output_type": "stream",
     "text": [
      "train image shape = (60000, 28, 28)\n",
      "test image shape = (10000, 28, 28)\n",
      "data type= float32\n"
     ]
    }
   ],
   "source": [
    "print(f'train image shape = {train_img_shape}')\n",
    "print(f'test image shape = {test_img_shape}')\n",
    "print(f'data type= {train_img.dtype}')"
   ]
  },
  {
   "cell_type": "code",
   "execution_count": 7,
   "id": "4d1812be",
   "metadata": {},
   "outputs": [
    {
     "name": "stderr",
     "output_type": "stream",
     "text": [
      "2023-10-14 02:31:28.416590: I tensorflow/core/platform/cpu_feature_guard.cc:193] This TensorFlow binary is optimized with oneAPI Deep Neural Network Library (oneDNN) to use the following CPU instructions in performance-critical operations:  SSE4.1 SSE4.2 AVX\n",
      "To enable them in other operations, rebuild TensorFlow with the appropriate compiler flags.\n"
     ]
    }
   ],
   "source": [
    "#  create model\n",
    "\n",
    "model = keras.Sequential([\n",
    "    layers.Dense(512, activation='relu'),\n",
    "    layers.Dense(256, activation='relu'),\n",
    "    layers.Dense(10, activation='relu'),\n",
    "])"
   ]
  },
  {
   "cell_type": "code",
   "execution_count": 8,
   "id": "c97743e5",
   "metadata": {},
   "outputs": [],
   "source": [
    "# compile model\n",
    "\n",
    "model.compile(\n",
    "    loss=keras.losses.SparseCategoricalCrossentropy(from_logits=True),\n",
    "    optimizer=keras.optimizers.Adam(learning_rate=0.001),\n",
    "    metrics=['accuracy']\n",
    ")"
   ]
  },
  {
   "cell_type": "code",
   "execution_count": 9,
   "id": "3f206ef6",
   "metadata": {},
   "outputs": [
    {
     "name": "stdout",
     "output_type": "stream",
     "text": [
      "Epoch 1/5\n",
      "1875/1875 - 12s - loss: 0.7865 - accuracy: 0.6964 - 12s/epoch - 6ms/step\n",
      "Epoch 2/5\n",
      "1875/1875 - 13s - loss: 0.3197 - accuracy: 0.8778 - 13s/epoch - 7ms/step\n",
      "Epoch 3/5\n",
      "1875/1875 - 11s - loss: 0.2657 - accuracy: 0.8945 - 11s/epoch - 6ms/step\n",
      "Epoch 4/5\n",
      "1875/1875 - 12s - loss: 0.2500 - accuracy: 0.8984 - 12s/epoch - 6ms/step\n",
      "Epoch 5/5\n",
      "1875/1875 - 12s - loss: 0.0578 - accuracy: 0.9805 - 12s/epoch - 6ms/step\n"
     ]
    },
    {
     "data": {
      "text/plain": [
       "<keras.callbacks.History at 0x7fd26dedfdf0>"
      ]
     },
     "execution_count": 9,
     "metadata": {},
     "output_type": "execute_result"
    }
   ],
   "source": [
    "# fit model\n",
    "\n",
    "model.fit(train_img, train_label,batch_size=32, epochs=5, verbose=2)"
   ]
  },
  {
   "cell_type": "code",
   "execution_count": 10,
   "id": "7458f24a",
   "metadata": {},
   "outputs": [
    {
     "name": "stdout",
     "output_type": "stream",
     "text": [
      "313/313 - 2s - loss: 0.0715 - accuracy: 0.9799 - 2s/epoch - 8ms/step\n"
     ]
    },
    {
     "data": {
      "text/plain": [
       "[0.07150323688983917, 0.9799000024795532]"
      ]
     },
     "execution_count": 10,
     "metadata": {},
     "output_type": "execute_result"
    }
   ],
   "source": [
    "model.evaluate(test_img, test_label, batch_size=32, verbose=2)"
   ]
  },
  {
   "cell_type": "code",
   "execution_count": 11,
   "id": "2526ca0d",
   "metadata": {},
   "outputs": [
    {
     "name": "stdout",
     "output_type": "stream",
     "text": [
      "INFO:tensorflow:Assets written to: models/sequential_mnist.model/assets\n"
     ]
    }
   ],
   "source": [
    "model.save('models/sequential_mnist.model')"
   ]
  },
  {
   "cell_type": "code",
   "execution_count": null,
   "id": "a3132c8a",
   "metadata": {},
   "outputs": [],
   "source": []
  }
 ],
 "metadata": {
  "kernelspec": {
   "display_name": "Python 3 (ipykernel)",
   "language": "python",
   "name": "python3"
  },
  "language_info": {
   "codemirror_mode": {
    "name": "ipython",
    "version": 3
   },
   "file_extension": ".py",
   "mimetype": "text/x-python",
   "name": "python",
   "nbconvert_exporter": "python",
   "pygments_lexer": "ipython3",
   "version": "3.10.9"
  }
 },
 "nbformat": 4,
 "nbformat_minor": 5
}
